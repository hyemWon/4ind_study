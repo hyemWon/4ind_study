{
 "cells": [
  {
   "cell_type": "code",
   "execution_count": 2,
   "metadata": {},
   "outputs": [],
   "source": [
    "import cv2\n",
    "import numpy as np"
   ]
  },
  {
   "cell_type": "code",
   "execution_count": 7,
   "metadata": {
    "scrolled": true
   },
   "outputs": [
    {
     "name": "stdout",
     "output_type": "stream",
     "text": [
      "(424, 640)\n",
      "(576, 768, 3)\n"
     ]
    }
   ],
   "source": [
    "img1 = cv2.imread('./dataset/person.jpg', 0)\n",
    "img2 = cv2.imread('./dataset/dog.jpg')\n",
    "img3 = cv2.imread('./dataset/person.jpg')\n",
    "img4 = cv2.imread('./dataset/dog.jpg', 0)\n",
    "print(img1.shape)\n",
    "print(img2.shape)"
   ]
  },
  {
   "cell_type": "code",
   "execution_count": 8,
   "metadata": {},
   "outputs": [
    {
     "name": "stdout",
     "output_type": "stream",
     "text": [
      "(256, 256)\n",
      "(256, 256, 3)\n",
      "(256, 256, 3)\n",
      "(256, 256)\n",
      "(256, 256, 3)\n",
      "(256, 256, 3)\n"
     ]
    }
   ],
   "source": [
    "# img1 = cv2.resize(img1, (0,0), None, 0.5, 0.5)\n",
    "# img2 = cv2.resize(img2, (0,0), None, 0.5, 0.5)\n",
    "img1 = cv2.resize(img1, (256, 256), None)\n",
    "img2 = cv2.resize(img2, (256, 256), None)\n",
    "img3 = cv2.resize(img3, (256, 256), None)\n",
    "img4 = cv2.resize(img4, (256, 256), None)\n",
    "\n",
    "print(img1.shape)\n",
    "print(img2.shape)\n",
    "print(img3.shape)\n",
    "print(img4.shape)\n",
    "\n",
    "img1 = cv2.cvtColor(img1, cv2.COLOR_GRAY2BGR)\n",
    "img4 = cv2.cvtColor(img4, cv2.COLOR_GRAY2BGR)\n",
    "print(img1.shape)\n",
    "print(img4.shape)"
   ]
  },
  {
   "cell_type": "code",
   "execution_count": 9,
   "metadata": {},
   "outputs": [],
   "source": [
    "hor1 = np.hstack((img1, img2))\n",
    "hor2 = np.hstack((img3, img4))\n",
    "ver = np.vstack((hor1, hor2))"
   ]
  },
  {
   "cell_type": "code",
   "execution_count": 10,
   "metadata": {},
   "outputs": [
    {
     "data": {
      "text/plain": [
       "-1"
      ]
     },
     "execution_count": 10,
     "metadata": {},
     "output_type": "execute_result"
    }
   ],
   "source": [
    "cv2.imshow(\"Vertical\", ver)\n",
    "cv2.imshow(\"Horizontal\", hor)\n",
    "cv2.waitKey(0)"
   ]
  }
 ],
 "metadata": {
  "kernelspec": {
   "display_name": "Python 3",
   "language": "python",
   "name": "python3"
  },
  "language_info": {
   "codemirror_mode": {
    "name": "ipython",
    "version": 3
   },
   "file_extension": ".py",
   "mimetype": "text/x-python",
   "name": "python",
   "nbconvert_exporter": "python",
   "pygments_lexer": "ipython3",
   "version": "3.7.6"
  }
 },
 "nbformat": 4,
 "nbformat_minor": 4
}
