{
 "cells": [
  {
   "cell_type": "markdown",
   "source": [
    "## 원근 변환"
   ],
   "metadata": {}
  },
  {
   "cell_type": "code",
   "execution_count": 1,
   "source": [
    "import cv2\r\n",
    "import numpy as np\r\n",
    "import math"
   ],
   "outputs": [],
   "metadata": {}
  },
  {
   "cell_type": "code",
   "execution_count": 2,
   "source": [
    "img = cv2.imread('./dataset/card1.jpg')"
   ],
   "outputs": [],
   "metadata": {}
  },
  {
   "cell_type": "code",
   "execution_count": 3,
   "source": [
    "width, height = 220, 180\r\n",
    "pts1 = np.float32([[282,252],[496,75],[547,581],[760,410]])\r\n",
    "\r\n",
    "width = math.pow(pts1[1][0]-pts1[0][0],2) + math.pow(pts1[1][1]-pts1[0][1],2)\r\n",
    "width = int(math.sqrt(width))\r\n",
    "height = math.pow(pts1[2][0]-pts1[0][0],2) + math.pow(pts1[2][1]-pts1[0][1],2)\r\n",
    "height = int(math.sqrt(height))\r\n",
    "# print(width)\r\n",
    "# print(height)\r\n",
    "pts2 = np.float32([[0,0],[width,0],[0,height],[width,height]])\r\n",
    "\r\n",
    "matrix = cv2.getPerspectiveTransform(pts1,pts2)\r\n",
    "output = cv2.warpPerspective(img.copy(), matrix, (width, height))\r\n",
    "\r\n",
    "# print(pts1)\r\n",
    "for x in range(4):\r\n",
    "    cv2.circle(img, (pts1[x][0],pts1[x][1]), 5, (0,0,255), cv2.FILLED)\r\n"
   ],
   "outputs": [
    {
     "output_type": "stream",
     "name": "stderr",
     "text": [
      "<ipython-input-3-48c6ee01c8ed>:17: DeprecationWarning: an integer is required (got type numpy.float32).  Implicit conversion to integers using __int__ is deprecated, and may be removed in a future version of Python.\n",
      "  cv2.circle(img, (pts1[x][0],pts1[x][1]), 5, (0,0,255), cv2.FILLED)\n"
     ]
    }
   ],
   "metadata": {
    "scrolled": true
   }
  },
  {
   "cell_type": "code",
   "execution_count": 4,
   "source": [
    "print(matrix)"
   ],
   "outputs": [
    {
     "output_type": "stream",
     "name": "stdout",
     "text": [
      "[[ 7.74834750e-01 -6.24107018e-01 -6.12284311e+01]\n",
      " [ 6.18838207e-01  7.48199866e-01 -3.63058741e+02]\n",
      " [ 2.42440714e-06 -5.06144609e-05  1.00000000e+00]]\n"
     ]
    }
   ],
   "metadata": {}
  },
  {
   "cell_type": "code",
   "execution_count": 5,
   "source": [
    "cv2.imshow('Original Image', img)\r\n",
    "cv2.imshow('Output Image', output)\r\n",
    "cv2.waitKey(0)"
   ],
   "outputs": [
    {
     "output_type": "execute_result",
     "data": {
      "text/plain": [
       "113"
      ]
     },
     "metadata": {},
     "execution_count": 5
    }
   ],
   "metadata": {}
  },
  {
   "cell_type": "code",
   "execution_count": null,
   "source": [
    "# 가로, 세로\r\n",
    "# 282, 252\r\n",
    "# 496, 75\r\n",
    "# 547, 581\r\n",
    "# 760, 410"
   ],
   "outputs": [],
   "metadata": {}
  }
 ],
 "metadata": {
  "kernelspec": {
   "name": "python3",
   "display_name": "Python 3.8.6 64-bit"
  },
  "language_info": {
   "codemirror_mode": {
    "name": "ipython",
    "version": 3
   },
   "file_extension": ".py",
   "mimetype": "text/x-python",
   "name": "python",
   "nbconvert_exporter": "python",
   "pygments_lexer": "ipython3",
   "version": "3.8.6"
  },
  "interpreter": {
   "hash": "1784f50464a290d377b97189f8cc5b1fac9ec055258da1c83eeefa641d3a79e6"
  }
 },
 "nbformat": 4,
 "nbformat_minor": 4
}